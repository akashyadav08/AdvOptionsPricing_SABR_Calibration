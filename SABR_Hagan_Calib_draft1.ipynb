{
  "nbformat": 4,
  "nbformat_minor": 0,
  "metadata": {
    "colab": {
      "provenance": []
    },
    "kernelspec": {
      "name": "python3",
      "display_name": "Python 3"
    },
    "language_info": {
      "name": "python"
    }
  },
  "cells": [
    {
      "cell_type": "code",
      "execution_count": 1,
      "metadata": {
        "id": "Chnz6mVui3-u"
      },
      "outputs": [],
      "source": [
        "import numpy as np\n",
        "import pandas as pd\n",
        "from scipy import optimize"
      ]
    },
    {
      "cell_type": "code",
      "source": [
        "from google.colab import drive\n",
        "drive.mount('/content/drive')"
      ],
      "metadata": {
        "colab": {
          "base_uri": "https://localhost:8080/"
        },
        "id": "QvLb_Jo50kMW",
        "outputId": "f52d2cf3-d283-4116-c51c-6a330990168a"
      },
      "execution_count": 2,
      "outputs": [
        {
          "output_type": "stream",
          "name": "stdout",
          "text": [
            "Drive already mounted at /content/drive; to attempt to forcibly remount, call drive.mount(\"/content/drive\", force_remount=True).\n"
          ]
        }
      ]
    },
    {
      "cell_type": "code",
      "source": [
        "# directory from your google drive to include data and other excel files.\n",
        "import os\n",
        "os.chdir('/content/drive/My Drive/AOP_Final_Project')"
      ],
      "metadata": {
        "id": "_-GhTpYV1xw1"
      },
      "execution_count": 3,
      "outputs": []
    },
    {
      "cell_type": "code",
      "source": [
        "dataframe_fwd_3320_T_11 = pd.read_excel(\"fwd_3320_T_11.xlsx\")"
      ],
      "metadata": {
        "id": "x79XrmNay4mj"
      },
      "execution_count": 4,
      "outputs": []
    },
    {
      "cell_type": "code",
      "source": [
        "type(dataframe_fwd_3320_T_11.MarketVol)"
      ],
      "metadata": {
        "colab": {
          "base_uri": "https://localhost:8080/"
        },
        "id": "ccAsdRs74qVf",
        "outputId": "2f325322-3b57-424e-9213-20b6d1696cd9"
      },
      "execution_count": 5,
      "outputs": [
        {
          "output_type": "execute_result",
          "data": {
            "text/plain": [
              "pandas.core.series.Series"
            ]
          },
          "metadata": {},
          "execution_count": 5
        }
      ]
    },
    {
      "cell_type": "code",
      "source": [
        "#Implementation of Hagan's formula eq2.17 for beta = 1\n",
        "def SABR2Black76(F0, K, T, alpha, rho, nu):\n",
        "  z = nu / alpha * np.log(F0 / K)\n",
        "  xz = np.log((np.sqrt(1 - 2*rho*z + z**2) + z - rho) / (1 - rho))\n",
        "  if z==0:\n",
        "    return alpha*(1+ (0.25*rho*alpha*nu + ((2-3*(rho**2))/24)*(nu**2))*T)\n",
        "  else:\n",
        "    return alpha*(z/xz)*(1+ (0.25*rho*alpha*nu + ((2-3*(rho**2))/24)*(nu**2))*T)"
      ],
      "metadata": {
        "id": "B5NY7n0xjIY4"
      },
      "execution_count": 6,
      "outputs": []
    },
    {
      "cell_type": "code",
      "source": [
        "#test case\n",
        "alpha0 = 0.05\n",
        "rho0 = 0.05\n",
        "nu0 = 0.7\n",
        "TargetVal = np.zeros(len(dataframe_fwd_3320_T_11.MarketVol))\n",
        "for i in range(len(dataframe_fwd_3320_T_11.MarketVol)):\n",
        "  TargetVal[i] = SABR2Black76(3320.336332, dataframe_fwd_3320_T_11.Strike[i], 0.92, alpha0, rho0, nu0)\n",
        "\n",
        "TargetVal"
      ],
      "metadata": {
        "colab": {
          "base_uri": "https://localhost:8080/"
        },
        "id": "F4Mvr7sSvyQE",
        "outputId": "1b0f6f10-28c3-48c8-fa73-50e581aa941c"
      },
      "execution_count": 7,
      "outputs": [
        {
          "output_type": "execute_result",
          "data": {
            "text/plain": [
              "array([0.54886745, 0.46225712, 0.41003265, 0.37211246, 0.3421141 ,\n",
              "       0.31716585, 0.2957232 , 0.27685757, 0.25996606, 0.24463446,\n",
              "       0.23056552, 0.2175384 , 0.20538431, 0.19397113, 0.18319337,\n",
              "       0.17296527, 0.16321605, 0.15388653, 0.14492663, 0.1362936 ,\n",
              "       0.1279507 , 0.11986636, 0.11201369, 0.1043705 , 0.09692   ,\n",
              "       0.08965268, 0.08257056, 0.07569612, 0.06909194, 0.06290458,\n",
              "       0.05746065, 0.05343278, 0.05184378, 0.05322538, 0.05681587,\n",
              "       0.06149075, 0.06655999, 0.07170317, 0.07678147, 0.08173648,\n",
              "       0.08654572, 0.09120318, 0.0957105 , 0.10007287, 0.10429699,\n",
              "       0.10839003, 0.11235914, 0.11621122, 0.11995278, 0.1235899 ,\n",
              "       0.12712826])"
            ]
          },
          "metadata": {},
          "execution_count": 7
        }
      ]
    },
    {
      "cell_type": "code",
      "source": [
        "# objective function\n",
        "def objective(params, *args):\n",
        "    alpha, rho, nu = params\n",
        "    F, K, T, market_vols = args # constant arguments\n",
        "    model_vols = np.zeros(len(dataframe_fwd_3320_T_11.MarketVol))\n",
        "    for i in range(len(dataframe_fwd_3320_T_11.MarketVol)):\n",
        "      model_vols[i] = SABR2Black76(F, K[i], T, alpha, rho, nu) # from Hagan's formula eq2.17\n",
        "    return np.sum((model_vols - market_vols)**2) # SSE"
      ],
      "metadata": {
        "id": "vRR7kXtN_-Q6"
      },
      "execution_count": 8,
      "outputs": []
    },
    {
      "cell_type": "code",
      "source": [
        "params_init = np.array([alpha0, rho0, nu0]) # initila parameters **choice matters**\n",
        "F = 3320.336332\n",
        "T = 0.92\n",
        "K = dataframe_fwd_3320_T_11.Strike\n",
        "market_vols = dataframe_fwd_3320_T_11.MarketVol\n",
        "args = (F, K, T, market_vols)"
      ],
      "metadata": {
        "id": "b4urSBESBDIc"
      },
      "execution_count": 9,
      "outputs": []
    },
    {
      "cell_type": "code",
      "source": [
        "# in-built optimization from scipy\n",
        "result = optimize.minimize(objective, params_init, args=args, method='Nelder-Mead')"
      ],
      "metadata": {
        "id": "ng8AN6SCjMv9"
      },
      "execution_count": 10,
      "outputs": []
    },
    {
      "cell_type": "code",
      "source": [
        "alpha_opt, rho_opt, nu_opt = result.x\n",
        "print(\"Optimized parameters [alpha, rho, nu]: \", alpha_opt, rho_opt, nu_opt)"
      ],
      "metadata": {
        "colab": {
          "base_uri": "https://localhost:8080/"
        },
        "id": "w1iZo89Yq_zV",
        "outputId": "5c1f7c4d-f575-491f-f8cf-de6b8dfcf312"
      },
      "execution_count": 11,
      "outputs": [
        {
          "output_type": "stream",
          "name": "stdout",
          "text": [
            "Optimized parameters [alpha, rho, nu]:  0.1446698927514169 -0.6312331064985108 0.7908025105144357\n"
          ]
        }
      ]
    },
    {
      "cell_type": "code",
      "source": [
        "def objective(params, F, K, T, market_vols):\n",
        "    alpha, rho, nu = params\n",
        "    model_vols = np.zeros(len(market_vols))\n",
        "    for i in range(len(market_vols)):\n",
        "        model_vols[i] = SABR2Black76(F, K[i], T, alpha, rho, nu)\n",
        "    return np.sum((model_vols - market_vols)**2)\n",
        "\n",
        "# Define a simple numerical approximation for the gradient\n",
        "def gradient(params, F, K, T, market_vols, eps=1e-4):\n",
        "    grad = np.zeros(len(params))\n",
        "    for i in range(len(params)):\n",
        "        params_plus_eps = np.copy(params)\n",
        "        params_plus_eps[i] += eps\n",
        "        grad[i] = (objective(params_plus_eps, F, K, T, market_vols) - objective(params, F, K, T, market_vols)) / eps\n",
        "    return grad\n",
        "\n",
        "# Initialize the parameters\n",
        "params = np.array([alpha0, rho0, nu0])\n",
        "\n",
        "# Initialize the learning rate\n",
        "learning_rate = 0.01\n",
        "\n",
        "# Number of iterations for the gradient descent\n",
        "num_iterations = 100000\n",
        "\n",
        "# Set the market data\n",
        "F = 3320.336332\n",
        "T = 0.92\n",
        "K = dataframe_fwd_3320_T_11.Strike.values\n",
        "market_vols = dataframe_fwd_3320_T_11.MarketVol.values\n",
        "\n",
        "# Stochastic Gradient Descent\n",
        "for i in range(num_iterations):\n",
        "    grad = gradient(params, F, K, T, market_vols)\n",
        "    params -= learning_rate * grad\n",
        "\n",
        "print(\"Optimized parameters [alpha, rho, nu]: \", params)"
      ],
      "metadata": {
        "colab": {
          "base_uri": "https://localhost:8080/"
        },
        "id": "0FWQMR-EtGYV",
        "outputId": "7a55b9ff-0f7f-4734-ab8f-daad37038764"
      },
      "execution_count": 12,
      "outputs": [
        {
          "output_type": "stream",
          "name": "stdout",
          "text": [
            "Optimized parameters [alpha, rho, nu]:  [ 0.14453328 -0.6309153   0.79122673]\n"
          ]
        }
      ]
    }
  ]
}